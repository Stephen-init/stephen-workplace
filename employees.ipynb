{
 "cells": [
  {
   "cell_type": "code",
   "execution_count": null,
   "source": [
    "from sunflower.config import *\r\n",
    "from sunflower.core import *\r\n",
    "from sunflower.test import *"
   ],
   "outputs": [],
   "metadata": {}
  },
  {
   "cell_type": "code",
   "execution_count": null,
   "source": [
    "payslips=Raw(user['stephen']['raw'],payslip['files'])\r\n"
   ],
   "outputs": [],
   "metadata": {}
  },
  {
   "cell_type": "code",
   "execution_count": null,
   "source": [
    "raw_payslips=payslips.read_files(10)"
   ],
   "outputs": [],
   "metadata": {}
  },
  {
   "cell_type": "code",
   "execution_count": null,
   "source": [
    "a=RawTest(raw_payslips).column_test()"
   ],
   "outputs": [],
   "metadata": {}
  },
  {
   "cell_type": "code",
   "execution_count": null,
   "source": [
    "df = pd.DataFrame.from_dict(a,orient='index')\r\n",
    "df=df.transpose()\r\n"
   ],
   "outputs": [],
   "metadata": {}
  },
  {
   "cell_type": "code",
   "execution_count": null,
   "source": [
    "a.to_csv(user['stephen']['test']+\"column.csv\")"
   ],
   "outputs": [],
   "metadata": {}
  },
  {
   "cell_type": "code",
   "execution_count": null,
   "source": [
    "a=set([1,2,3])\r\n",
    "b=set([1,3,2])\r\n",
    "set.intersection(*[a,b])"
   ],
   "outputs": [],
   "metadata": {}
  },
  {
   "cell_type": "code",
   "execution_count": null,
   "source": [
    "class RawTest:\r\n",
    "    def __init__(self,sample:dict):\r\n",
    "        self.sample=sample\r\n",
    "    \r\n",
    "    def sheet_test(self): #milti-sheets detect\r\n",
    "        multisheets={}\r\n",
    "        for i in self.sample:\r\n",
    "            if isinstance(self.sample[i], dict):\r\n",
    "                identical=all([set(self.sample[i][list(self.sample[i].keys())[0]].columns) == set(self.sample[i][df].columns) for df in self.sample[i]])\r\n",
    "                multisheets[i]=identical\r\n",
    "        return multisheets\r\n",
    "\r\n",
    "    def column_test(self): #df detect\r\n",
    "        columns={}\r\n",
    "        benchmark=list(self.sample[list(self.sample.keys())[0]].columns)\r\n",
    "        columns[','.join([str(element) for element in benchmark])]=[list(self.sample.keys())[0]]\r\n",
    "        for i in self.sample:\r\n",
    "            if isinstance(self.sample[i], dict)==False:\r\n",
    "                if list(self.sample[i].columns)!=benchmark:\r\n",
    "                    columns[','.join([str(element) for element in list(self.sample[i].columns)])]=[i]\r\n",
    "                    benckmark=list(self.sample[i].columns)\r\n",
    "                else:\r\n",
    "                    columns[','.join([str(element) for element in benchmark])].append(i)\r\n",
    "        col=[set(list(i.split(\",\"))) for i in list(columns.keys())]\r\n",
    "        coldiff=set.union(*col) - set.intersection(*col)\r\n",
    "        for i in list(columns.keys()):\r\n",
    "            result=set.intersection(*[set(list(i.split(\",\"))),coldiff])\r\n",
    "            columns[i].append(list(result))\r\n",
    "        return columns"
   ],
   "outputs": [],
   "metadata": {}
  },
  {
   "cell_type": "code",
   "execution_count": null,
   "source": [
    "import pandas as pd\r\n",
    "import datetime,os\r\n",
    "import numpy as np\r\n",
    "\r\n",
    "class RawTest:\r\n",
    "    def __init__(self,sample:dict):\r\n",
    "        self.sample=sample\r\n",
    "    \r\n",
    "    def sheet_test(self): #milti-sheets detect\r\n",
    "        multisheets={}\r\n",
    "        for i in self.sample:\r\n",
    "            if isinstance(self.sample[i], dict):\r\n",
    "                identical=all([set(self.sample[i][list(self.sample[i].keys())[0]].columns) == set(self.sample[i][df].columns) for df in self.sample[i]])\r\n",
    "                multisheets[i]=identical\r\n",
    "        return multisheets\r\n",
    "\r\n",
    "    def column_test(self): #df detect\r\n",
    "        file_col=[]\r\n",
    "        commoncol=set.intersection(*[set(list(self.sample[i].columns)) for i in self.sample.keys()])\r\n",
    "        cat=0\r\n",
    "        for i in self.sample:\r\n",
    "            if isinstance(self.sample[i], dict)==False:\r\n",
    "                extra=set.union(*[set(list(self.sample[i].columns)),commoncol])-set.intersection(*[set(list(self.sample[i].columns)),commoncol])\r\n",
    "                file_col.append([i,list(commoncol),list(self.sample[i].columns),list(extra)])\r\n",
    "        test_result=pd.DataFrame(\r\n",
    "                                columns=['Filename','Common Col','Files Columns','Extra Columns'],\r\n",
    "                                data=file_col\r\n",
    "                                )\r\n",
    "        return test_result\r\n",
    "        "
   ],
   "outputs": [],
   "metadata": {}
  },
  {
   "cell_type": "code",
   "execution_count": null,
   "source": [
    "a=RawTest(raw_payslips).sheet_test()"
   ],
   "outputs": [],
   "metadata": {}
  },
  {
   "cell_type": "code",
   "execution_count": null,
   "source": [
    "raw_payslips['test']={\r\n",
    "        'sheets1':pd.DataFrame({\r\n",
    "            'col1':[1,2,3,4],\r\n",
    "            'col2':[1,2,3,4],\r\n",
    "            'col3':[1,2,3,4],\r\n",
    "            'col4':[1,2,3,4],\r\n",
    "        }),\r\n",
    "        'sheets2':pd.DataFrame({\r\n",
    "            'col1':[1,2,3,4],\r\n",
    "            'col2':[1,2,3,4],\r\n",
    "            'col3':[1,2,3,4],\r\n",
    "            'col4':[1,2,3,4],\r\n",
    "            'col5':[1,2,3,4],\r\n",
    "        }),\r\n",
    "        'sheets3':pd.DataFrame({\r\n",
    "            'xxx':[1,2,3,4],\r\n",
    "            'col2':[1,2,3,4],\r\n",
    "            'col3':[1,2,3,4],\r\n",
    "            'col4':[1,2,3,4],\r\n",
    "        })\r\n",
    "    }\r\n",
    "\r\n",
    "raw_payslips['test2']={\r\n",
    "        'sheets3':pd.DataFrame({\r\n",
    "            'yy':[1,2,3,4],\r\n",
    "            'colss2':[1,2,3,4],\r\n",
    "            'col3':[1,2,3,4],\r\n",
    "            'col4':[1,2,3,4],\r\n",
    "        }),\r\n",
    "        'sheets4':pd.DataFrame({\r\n",
    "            'col1':[1,2,3,4],\r\n",
    "            'colss2':[1,2,3,4],\r\n",
    "            'col3':[1,2,3,4],\r\n",
    "            'col4':[1,2,3,4],\r\n",
    "            'col5':[1,2,3,4],\r\n",
    "        }),\r\n",
    "        'sheets5':pd.DataFrame({\r\n",
    "            'xxx':[1,2,3,4],\r\n",
    "            'colss2':[1,2,3,4],\r\n",
    "            'col3':[1,2,3,4],\r\n",
    "            'col4':[1,2,3,4],\r\n",
    "        })\r\n",
    "    }\r\n",
    "\r\n",
    "\r\n",
    "    "
   ],
   "outputs": [],
   "metadata": {}
  },
  {
   "cell_type": "code",
   "execution_count": null,
   "source": [
    "b= pd.concat([raw_payslips['test'][i] for i in raw_payslips['test']],ignore_index=True, sort=False)"
   ],
   "outputs": [],
   "metadata": {}
  },
  {
   "cell_type": "code",
   "execution_count": null,
   "source": [
    "b"
   ],
   "outputs": [],
   "metadata": {}
  },
  {
   "cell_type": "code",
   "execution_count": null,
   "source": [
    "import pandas as pd\r\n",
    "import datetime,os\r\n",
    "import numpy as np\r\n",
    "import copy\r\n",
    "\r\n",
    "class RawTest:\r\n",
    "    def __init__(self,sample:dict):\r\n",
    "        self.sample=sample\r\n",
    "    \r\n",
    "    def sheet_test(self): #milti-sheets detect\r\n",
    "        result=[]\r\n",
    "        for i in self.sample:\r\n",
    "            if isinstance(self.sample[i], dict):\r\n",
    "                allcol=set.union(*[set(list(self.sample[i][j].columns)) for j in self.sample[i].keys()])\r\n",
    "                comcol=set.intersection(*[set(list(self.sample[i][j].columns)) for j in self.sample[i].keys()])\r\n",
    "                if allcol!=comcol:\r\n",
    "                    test=self.column_test(self.sample[i])\r\n",
    "                    test['File']=i\r\n",
    "                    result.append(test)\r\n",
    "        result = pd.concat(result)\r\n",
    "        return result\r\n",
    "\r\n",
    "    def column_test(self,sample): #df detect\r\n",
    "        sample_dict=copy.deepcopy(sample)\r\n",
    "        dict_instance=[]\r\n",
    "        for i in sample_dict:\r\n",
    "            if isinstance(sample_dict[i], dict):\r\n",
    "                dict_instance.append(i)\r\n",
    "        for i in dict_instance:\r\n",
    "            sample_dict.pop(i,None)      \r\n",
    "        file_col=[]\r\n",
    "        commoncol=set.intersection(*[set(list(sample_dict[i].columns)) for i in sample_dict.keys()])\r\n",
    "        cat=0\r\n",
    "        for i in sample_dict:\r\n",
    "            if isinstance(sample_dict[i], dict)==False:\r\n",
    "                extra=set.union(*[set(list(sample_dict[i].columns)),commoncol])-set.intersection(*[set(list(sample_dict[i].columns)),commoncol])\r\n",
    "                file_col.append([i,list(commoncol),list(sample_dict[i].columns),list(extra)])\r\n",
    "        test_result=pd.DataFrame(\r\n",
    "                                columns=['Filename','Common Col','Files Columns','Extra Columns'],\r\n",
    "                                data=file_col\r\n",
    "                                )\r\n",
    "        return test_result\r\n",
    "        \r\n",
    "        \r\n",
    "\r\n",
    "        "
   ],
   "outputs": [],
   "metadata": {}
  },
  {
   "cell_type": "code",
   "execution_count": null,
   "source": [
    "a=RawTest(raw_payslips).sheet_test()"
   ],
   "outputs": [],
   "metadata": {}
  },
  {
   "cell_type": "code",
   "execution_count": null,
   "source": [
    "raw_payslips['test2']"
   ],
   "outputs": [],
   "metadata": {}
  },
  {
   "cell_type": "code",
   "execution_count": null,
   "source": [
    "a"
   ],
   "outputs": [],
   "metadata": {}
  },
  {
   "cell_type": "code",
   "execution_count": null,
   "source": [],
   "outputs": [],
   "metadata": {}
  }
 ],
 "metadata": {
  "orig_nbformat": 4,
  "language_info": {
   "name": "python",
   "version": "3.9.7",
   "mimetype": "text/x-python",
   "codemirror_mode": {
    "name": "ipython",
    "version": 3
   },
   "pygments_lexer": "ipython3",
   "nbconvert_exporter": "python",
   "file_extension": ".py"
  },
  "kernelspec": {
   "name": "python3",
   "display_name": "Python 3.9.7 64-bit"
  },
  "interpreter": {
   "hash": "65518f30a3ecf463641bbff51568eed8800a8b6475836389ae912c7fedafd608"
  }
 },
 "nbformat": 4,
 "nbformat_minor": 2
}